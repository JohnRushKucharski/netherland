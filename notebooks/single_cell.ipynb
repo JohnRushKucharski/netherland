{
 "cells": [
  {
   "attachments": {},
   "cell_type": "markdown",
   "metadata": {},
   "source": [
    "# Netherland Single Cell Minimal Example\n",
    "\n",
    "This presents a minimal example of how to use the \"netherland\" model."
   ]
  },
  {
   "cell_type": "code",
   "execution_count": 6,
   "metadata": {},
   "outputs": [],
   "source": [
    "import sys\n",
    "wd = \"/Users/rdel1jrk/Documents/dev/netherland/\"\n",
    "sys.path.insert(0, wd)\n",
    "\n",
    "import pandas as pd\n",
    "\n",
    "import src.constants as constants\n",
    "import src.cell as cell"
   ]
  },
  {
   "attachments": {},
   "cell_type": "markdown",
   "metadata": {},
   "source": [
    "Import cell level constants. In this the default MORRIS_CONSTANTS provided as an example file located: wd/data/morris_constants.toml is used. Only the first cell's information is used (0th index)."
   ]
  },
  {
   "cell_type": "code",
   "execution_count": 7,
   "metadata": {},
   "outputs": [
    {
     "name": "stdout",
     "output_type": "stream",
     "text": [
      "Constants(id=1, sa=1.0, du=0.0, db=-30.0, bo=0.07182, bi=0.1, fo=0.83, k=0.7142, fc=0.2, ro=0.0105, rd=30.0, k1=0.1, k2=0.5, k3=0.0344, sv_to_ro=1.0, wa_to_rl=0.1, b=1.0)\n"
     ]
    }
   ],
   "source": [
    "K = constants.import_file()[0] # imports morris constants for a single cell.\n",
    "print(K)"
   ]
  },
  {
   "attachments": {},
   "cell_type": "markdown",
   "metadata": {},
   "source": [
    "Calling cell.factory() with a constants object creates a single cell with a single bottom layer. To view the data from this layer we call the cell.write_data() command and this returns data, column headers tuple which can be recast and displayed as a pandas data frame."
   ]
  },
  {
   "cell_type": "code",
   "execution_count": 8,
   "metadata": {},
   "outputs": [
    {
     "data": {
      "text/html": [
       "<div>\n",
       "<style scoped>\n",
       "    .dataframe tbody tr th:only-of-type {\n",
       "        vertical-align: middle;\n",
       "    }\n",
       "\n",
       "    .dataframe tbody tr th {\n",
       "        vertical-align: top;\n",
       "    }\n",
       "\n",
       "    .dataframe thead th {\n",
       "        text-align: right;\n",
       "    }\n",
       "</style>\n",
       "<table border=\"1\" class=\"dataframe\">\n",
       "  <thead>\n",
       "    <tr style=\"text-align: right;\">\n",
       "      <th></th>\n",
       "      <th>top</th>\n",
       "      <th>bottom</th>\n",
       "      <th>depth</th>\n",
       "      <th>biomass</th>\n",
       "      <th>labile</th>\n",
       "      <th>refractory</th>\n",
       "      <th>inorganic</th>\n",
       "    </tr>\n",
       "  </thead>\n",
       "  <tbody>\n",
       "    <tr>\n",
       "      <th>0</th>\n",
       "      <td>0</td>\n",
       "      <td>30.0</td>\n",
       "      <td>30.0</td>\n",
       "      <td>1.3892</td>\n",
       "      <td>18.997571</td>\n",
       "      <td>4.749393</td>\n",
       "      <td>4.863836</td>\n",
       "    </tr>\n",
       "  </tbody>\n",
       "</table>\n",
       "</div>"
      ],
      "text/plain": [
       "   top  bottom  depth  biomass     labile  refractory  inorganic\n",
       "0    0    30.0   30.0   1.3892  18.997571    4.749393   4.863836"
      ]
     },
     "execution_count": 8,
     "metadata": {},
     "output_type": "execute_result"
    }
   ],
   "source": [
    "single_cell = cell.factory(K)\n",
    "data = single_cell.write_data()\n",
    "df = pd.DataFrame(data[0], columns=data[1])\n",
    "df.head()"
   ]
  },
  {
   "attachments": {},
   "cell_type": "markdown",
   "metadata": {},
   "source": [
    "Calling the cell.step_forward() function updates the cell by generating a new layer (and returning a new cell with both layers). The updated cell data is printed again displayed as a dataframe."
   ]
  },
  {
   "cell_type": "code",
   "execution_count": 9,
   "metadata": {},
   "outputs": [
    {
     "data": {
      "text/html": [
       "<div>\n",
       "<style scoped>\n",
       "    .dataframe tbody tr th:only-of-type {\n",
       "        vertical-align: middle;\n",
       "    }\n",
       "\n",
       "    .dataframe tbody tr th {\n",
       "        vertical-align: top;\n",
       "    }\n",
       "\n",
       "    .dataframe thead th {\n",
       "        text-align: right;\n",
       "    }\n",
       "</style>\n",
       "<table border=\"1\" class=\"dataframe\">\n",
       "  <thead>\n",
       "    <tr style=\"text-align: right;\">\n",
       "      <th></th>\n",
       "      <th>top</th>\n",
       "      <th>bottom</th>\n",
       "      <th>depth</th>\n",
       "      <th>biomass</th>\n",
       "      <th>labile</th>\n",
       "      <th>refractory</th>\n",
       "      <th>inorganic</th>\n",
       "    </tr>\n",
       "  </thead>\n",
       "  <tbody>\n",
       "    <tr>\n",
       "      <th>0</th>\n",
       "      <td>0.000000</td>\n",
       "      <td>1.0</td>\n",
       "      <td>1.000000</td>\n",
       "      <td>0.139127</td>\n",
       "      <td>0.664000</td>\n",
       "      <td>0.166000</td>\n",
       "      <td>0.170000</td>\n",
       "    </tr>\n",
       "    <tr>\n",
       "      <th>1</th>\n",
       "      <td>14.286978</td>\n",
       "      <td>30.0</td>\n",
       "      <td>15.713022</td>\n",
       "      <td>1.048005</td>\n",
       "      <td>33.384883</td>\n",
       "      <td>4.954204</td>\n",
       "      <td>4.888997</td>\n",
       "    </tr>\n",
       "  </tbody>\n",
       "</table>\n",
       "</div>"
      ],
      "text/plain": [
       "         top  bottom      depth   biomass     labile  refractory  inorganic\n",
       "0   0.000000     1.0   1.000000  0.139127   0.664000    0.166000   0.170000\n",
       "1  14.286978    30.0  15.713022  1.048005  33.384883    4.954204   4.888997"
      ]
     },
     "execution_count": 9,
     "metadata": {},
     "output_type": "execute_result"
    }
   ],
   "source": [
    "single_cell = single_cell.step_forward(dep=1.0, top=K.ro, yrs=1.0, sub_steps=1)\n",
    "pd.DataFrame(single_cell.write_data()[0], columns=data[1]).head()"
   ]
  }
 ],
 "metadata": {
  "kernelspec": {
   "display_name": "netherland",
   "language": "python",
   "name": "python3"
  },
  "language_info": {
   "codemirror_mode": {
    "name": "ipython",
    "version": 3
   },
   "file_extension": ".py",
   "mimetype": "text/x-python",
   "name": "python",
   "nbconvert_exporter": "python",
   "pygments_lexer": "ipython3",
   "version": "3.12.0"
  },
  "orig_nbformat": 4
 },
 "nbformat": 4,
 "nbformat_minor": 2
}
